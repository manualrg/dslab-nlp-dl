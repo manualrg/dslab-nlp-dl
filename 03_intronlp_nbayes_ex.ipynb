{
  "cells": [
    {
      "cell_type": "markdown",
      "metadata": {
        "id": "view-in-github",
        "colab_type": "text"
      },
      "source": [
        "<a href=\"https://colab.research.google.com/github/manualrg/dslab-nlp-dl/blob/master/03_intronlp_nbayes_ex.ipynb\" target=\"_parent\"><img src=\"https://colab.research.google.com/assets/colab-badge.svg\" alt=\"Open In Colab\"/></a>"
      ]
    },
    {
      "cell_type": "markdown",
      "metadata": {
        "id": "kBag1o97n0lb"
      },
      "source": [
        "# Clasificacion Supervisada: NB"
      ]
    },
    {
      "cell_type": "code",
      "execution_count": 1,
      "metadata": {
        "id": "cXrAok3OimHx"
      },
      "outputs": [],
      "source": [
        "import typing\n",
        "\n",
        "import numpy as np\n",
        "import pandas as pd\n",
        "import sklearn\n",
        "import nltk\n",
        "\n",
        "from sklearn.datasets import fetch_20newsgroups\n",
        "from sklearn import preprocessing\n",
        "from nltk.stem.snowball import SnowballStemmer\n",
        "from nltk.tokenize import word_tokenize"
      ]
    },
    {
      "cell_type": "code",
      "execution_count": 2,
      "metadata": {
        "colab": {
          "base_uri": "https://localhost:8080/"
        },
        "id": "JtUyHz6eioBc",
        "outputId": "9cdb6295-883e-4e05-fd46-01b6cc01d6af"
      },
      "outputs": [
        {
          "output_type": "stream",
          "name": "stdout",
          "text": [
            "sklearn.__version__='1.6.1'\n",
            "nltk.__version__='3.9.1'\n",
            "pd.__version__='2.2.2'\n"
          ]
        }
      ],
      "source": [
        "print(f\"{sklearn.__version__=}\")\n",
        "print(f\"{nltk.__version__=}\")\n",
        "print(f\"{pd.__version__=}\")"
      ]
    },
    {
      "cell_type": "code",
      "execution_count": 3,
      "metadata": {
        "colab": {
          "base_uri": "https://localhost:8080/"
        },
        "id": "26iXAVKfiqqS",
        "outputId": "80d91c57-7e7e-4fb7-e484-fffa1a9588fa"
      },
      "outputs": [
        {
          "output_type": "stream",
          "name": "stderr",
          "text": [
            "[nltk_data] Downloading package stopwords to /root/nltk_data...\n",
            "[nltk_data]   Unzipping corpora/stopwords.zip.\n",
            "[nltk_data] Downloading package punkt_tab to /root/nltk_data...\n",
            "[nltk_data]   Unzipping tokenizers/punkt_tab.zip.\n",
            "[nltk_data] Downloading package punkt to /root/nltk_data...\n",
            "[nltk_data]   Unzipping tokenizers/punkt.zip.\n"
          ]
        },
        {
          "output_type": "execute_result",
          "data": {
            "text/plain": [
              "True"
            ]
          },
          "metadata": {},
          "execution_count": 3
        }
      ],
      "source": [
        "nltk.download('stopwords')\n",
        "nltk.download('punkt_tab')\n",
        "nltk.download('punkt')"
      ]
    },
    {
      "cell_type": "code",
      "execution_count": 4,
      "metadata": {
        "id": "aYdePNvQisFp"
      },
      "outputs": [],
      "source": [
        "RND_SEED = 123\n",
        "PCT_TEST = 0.2"
      ]
    },
    {
      "cell_type": "markdown",
      "metadata": {
        "id": "w-hSUnqxn9oh"
      },
      "source": [
        "# Dataset"
      ]
    },
    {
      "cell_type": "code",
      "execution_count": 5,
      "metadata": {
        "colab": {
          "base_uri": "https://localhost:8080/",
          "height": 332
        },
        "id": "B8k3eG7SiVGd",
        "outputId": "25d98f15-f663-46a0-9d6b-c45880940855"
      },
      "outputs": [
        {
          "output_type": "stream",
          "name": "stderr",
          "text": [
            "/usr/local/lib/python3.11/dist-packages/huggingface_hub/utils/_auth.py:94: UserWarning: \n",
            "The secret `HF_TOKEN` does not exist in your Colab secrets.\n",
            "To authenticate with the Hugging Face Hub, create a token in your settings tab (https://huggingface.co/settings/tokens), set it as secret in your Google Colab and restart your session.\n",
            "You will be able to reuse this secret in all of your notebooks.\n",
            "Please note that authentication is recommended but still optional to access public models or datasets.\n",
            "  warnings.warn(\n"
          ]
        },
        {
          "output_type": "execute_result",
          "data": {
            "text/plain": [
              "  PROJECT                                        REQUIREMENT FINAL_LABEL\n",
              "0      16  Poder crear un usuario y acceder a través de é...          NF\n",
              "1      16  Poder crear un perfil personal e individual a ...           F\n",
              "2      16  Acceder a la aplicación y a sus funcionalidade...          NF\n",
              "3      16  Todos los datos introducidos podrán ser leídos...          NF\n",
              "4      16  Poder leer, eliminar, editar o incluir cualqui...           F"
            ],
            "text/html": [
              "\n",
              "  <div id=\"df-3fe0ba82-a27f-4db5-a008-b5873e61d019\" class=\"colab-df-container\">\n",
              "    <div>\n",
              "<style scoped>\n",
              "    .dataframe tbody tr th:only-of-type {\n",
              "        vertical-align: middle;\n",
              "    }\n",
              "\n",
              "    .dataframe tbody tr th {\n",
              "        vertical-align: top;\n",
              "    }\n",
              "\n",
              "    .dataframe thead th {\n",
              "        text-align: right;\n",
              "    }\n",
              "</style>\n",
              "<table border=\"1\" class=\"dataframe\">\n",
              "  <thead>\n",
              "    <tr style=\"text-align: right;\">\n",
              "      <th></th>\n",
              "      <th>PROJECT</th>\n",
              "      <th>REQUIREMENT</th>\n",
              "      <th>FINAL_LABEL</th>\n",
              "    </tr>\n",
              "  </thead>\n",
              "  <tbody>\n",
              "    <tr>\n",
              "      <th>0</th>\n",
              "      <td>16</td>\n",
              "      <td>Poder crear un usuario y acceder a través de é...</td>\n",
              "      <td>NF</td>\n",
              "    </tr>\n",
              "    <tr>\n",
              "      <th>1</th>\n",
              "      <td>16</td>\n",
              "      <td>Poder crear un perfil personal e individual a ...</td>\n",
              "      <td>F</td>\n",
              "    </tr>\n",
              "    <tr>\n",
              "      <th>2</th>\n",
              "      <td>16</td>\n",
              "      <td>Acceder a la aplicación y a sus funcionalidade...</td>\n",
              "      <td>NF</td>\n",
              "    </tr>\n",
              "    <tr>\n",
              "      <th>3</th>\n",
              "      <td>16</td>\n",
              "      <td>Todos los datos introducidos podrán ser leídos...</td>\n",
              "      <td>NF</td>\n",
              "    </tr>\n",
              "    <tr>\n",
              "      <th>4</th>\n",
              "      <td>16</td>\n",
              "      <td>Poder leer, eliminar, editar o incluir cualqui...</td>\n",
              "      <td>F</td>\n",
              "    </tr>\n",
              "  </tbody>\n",
              "</table>\n",
              "</div>\n",
              "    <div class=\"colab-df-buttons\">\n",
              "\n",
              "  <div class=\"colab-df-container\">\n",
              "    <button class=\"colab-df-convert\" onclick=\"convertToInteractive('df-3fe0ba82-a27f-4db5-a008-b5873e61d019')\"\n",
              "            title=\"Convert this dataframe to an interactive table.\"\n",
              "            style=\"display:none;\">\n",
              "\n",
              "  <svg xmlns=\"http://www.w3.org/2000/svg\" height=\"24px\" viewBox=\"0 -960 960 960\">\n",
              "    <path d=\"M120-120v-720h720v720H120Zm60-500h600v-160H180v160Zm220 220h160v-160H400v160Zm0 220h160v-160H400v160ZM180-400h160v-160H180v160Zm440 0h160v-160H620v160ZM180-180h160v-160H180v160Zm440 0h160v-160H620v160Z\"/>\n",
              "  </svg>\n",
              "    </button>\n",
              "\n",
              "  <style>\n",
              "    .colab-df-container {\n",
              "      display:flex;\n",
              "      gap: 12px;\n",
              "    }\n",
              "\n",
              "    .colab-df-convert {\n",
              "      background-color: #E8F0FE;\n",
              "      border: none;\n",
              "      border-radius: 50%;\n",
              "      cursor: pointer;\n",
              "      display: none;\n",
              "      fill: #1967D2;\n",
              "      height: 32px;\n",
              "      padding: 0 0 0 0;\n",
              "      width: 32px;\n",
              "    }\n",
              "\n",
              "    .colab-df-convert:hover {\n",
              "      background-color: #E2EBFA;\n",
              "      box-shadow: 0px 1px 2px rgba(60, 64, 67, 0.3), 0px 1px 3px 1px rgba(60, 64, 67, 0.15);\n",
              "      fill: #174EA6;\n",
              "    }\n",
              "\n",
              "    .colab-df-buttons div {\n",
              "      margin-bottom: 4px;\n",
              "    }\n",
              "\n",
              "    [theme=dark] .colab-df-convert {\n",
              "      background-color: #3B4455;\n",
              "      fill: #D2E3FC;\n",
              "    }\n",
              "\n",
              "    [theme=dark] .colab-df-convert:hover {\n",
              "      background-color: #434B5C;\n",
              "      box-shadow: 0px 1px 3px 1px rgba(0, 0, 0, 0.15);\n",
              "      filter: drop-shadow(0px 1px 2px rgba(0, 0, 0, 0.3));\n",
              "      fill: #FFFFFF;\n",
              "    }\n",
              "  </style>\n",
              "\n",
              "    <script>\n",
              "      const buttonEl =\n",
              "        document.querySelector('#df-3fe0ba82-a27f-4db5-a008-b5873e61d019 button.colab-df-convert');\n",
              "      buttonEl.style.display =\n",
              "        google.colab.kernel.accessAllowed ? 'block' : 'none';\n",
              "\n",
              "      async function convertToInteractive(key) {\n",
              "        const element = document.querySelector('#df-3fe0ba82-a27f-4db5-a008-b5873e61d019');\n",
              "        const dataTable =\n",
              "          await google.colab.kernel.invokeFunction('convertToInteractive',\n",
              "                                                    [key], {});\n",
              "        if (!dataTable) return;\n",
              "\n",
              "        const docLinkHtml = 'Like what you see? Visit the ' +\n",
              "          '<a target=\"_blank\" href=https://colab.research.google.com/notebooks/data_table.ipynb>data table notebook</a>'\n",
              "          + ' to learn more about interactive tables.';\n",
              "        element.innerHTML = '';\n",
              "        dataTable['output_type'] = 'display_data';\n",
              "        await google.colab.output.renderOutput(dataTable, element);\n",
              "        const docLink = document.createElement('div');\n",
              "        docLink.innerHTML = docLinkHtml;\n",
              "        element.appendChild(docLink);\n",
              "      }\n",
              "    </script>\n",
              "  </div>\n",
              "\n",
              "\n",
              "    <div id=\"df-889ec162-c175-4cdf-9fe0-8fd8ec12ebee\">\n",
              "      <button class=\"colab-df-quickchart\" onclick=\"quickchart('df-889ec162-c175-4cdf-9fe0-8fd8ec12ebee')\"\n",
              "                title=\"Suggest charts\"\n",
              "                style=\"display:none;\">\n",
              "\n",
              "<svg xmlns=\"http://www.w3.org/2000/svg\" height=\"24px\"viewBox=\"0 0 24 24\"\n",
              "     width=\"24px\">\n",
              "    <g>\n",
              "        <path d=\"M19 3H5c-1.1 0-2 .9-2 2v14c0 1.1.9 2 2 2h14c1.1 0 2-.9 2-2V5c0-1.1-.9-2-2-2zM9 17H7v-7h2v7zm4 0h-2V7h2v10zm4 0h-2v-4h2v4z\"/>\n",
              "    </g>\n",
              "</svg>\n",
              "      </button>\n",
              "\n",
              "<style>\n",
              "  .colab-df-quickchart {\n",
              "      --bg-color: #E8F0FE;\n",
              "      --fill-color: #1967D2;\n",
              "      --hover-bg-color: #E2EBFA;\n",
              "      --hover-fill-color: #174EA6;\n",
              "      --disabled-fill-color: #AAA;\n",
              "      --disabled-bg-color: #DDD;\n",
              "  }\n",
              "\n",
              "  [theme=dark] .colab-df-quickchart {\n",
              "      --bg-color: #3B4455;\n",
              "      --fill-color: #D2E3FC;\n",
              "      --hover-bg-color: #434B5C;\n",
              "      --hover-fill-color: #FFFFFF;\n",
              "      --disabled-bg-color: #3B4455;\n",
              "      --disabled-fill-color: #666;\n",
              "  }\n",
              "\n",
              "  .colab-df-quickchart {\n",
              "    background-color: var(--bg-color);\n",
              "    border: none;\n",
              "    border-radius: 50%;\n",
              "    cursor: pointer;\n",
              "    display: none;\n",
              "    fill: var(--fill-color);\n",
              "    height: 32px;\n",
              "    padding: 0;\n",
              "    width: 32px;\n",
              "  }\n",
              "\n",
              "  .colab-df-quickchart:hover {\n",
              "    background-color: var(--hover-bg-color);\n",
              "    box-shadow: 0 1px 2px rgba(60, 64, 67, 0.3), 0 1px 3px 1px rgba(60, 64, 67, 0.15);\n",
              "    fill: var(--button-hover-fill-color);\n",
              "  }\n",
              "\n",
              "  .colab-df-quickchart-complete:disabled,\n",
              "  .colab-df-quickchart-complete:disabled:hover {\n",
              "    background-color: var(--disabled-bg-color);\n",
              "    fill: var(--disabled-fill-color);\n",
              "    box-shadow: none;\n",
              "  }\n",
              "\n",
              "  .colab-df-spinner {\n",
              "    border: 2px solid var(--fill-color);\n",
              "    border-color: transparent;\n",
              "    border-bottom-color: var(--fill-color);\n",
              "    animation:\n",
              "      spin 1s steps(1) infinite;\n",
              "  }\n",
              "\n",
              "  @keyframes spin {\n",
              "    0% {\n",
              "      border-color: transparent;\n",
              "      border-bottom-color: var(--fill-color);\n",
              "      border-left-color: var(--fill-color);\n",
              "    }\n",
              "    20% {\n",
              "      border-color: transparent;\n",
              "      border-left-color: var(--fill-color);\n",
              "      border-top-color: var(--fill-color);\n",
              "    }\n",
              "    30% {\n",
              "      border-color: transparent;\n",
              "      border-left-color: var(--fill-color);\n",
              "      border-top-color: var(--fill-color);\n",
              "      border-right-color: var(--fill-color);\n",
              "    }\n",
              "    40% {\n",
              "      border-color: transparent;\n",
              "      border-right-color: var(--fill-color);\n",
              "      border-top-color: var(--fill-color);\n",
              "    }\n",
              "    60% {\n",
              "      border-color: transparent;\n",
              "      border-right-color: var(--fill-color);\n",
              "    }\n",
              "    80% {\n",
              "      border-color: transparent;\n",
              "      border-right-color: var(--fill-color);\n",
              "      border-bottom-color: var(--fill-color);\n",
              "    }\n",
              "    90% {\n",
              "      border-color: transparent;\n",
              "      border-bottom-color: var(--fill-color);\n",
              "    }\n",
              "  }\n",
              "</style>\n",
              "\n",
              "      <script>\n",
              "        async function quickchart(key) {\n",
              "          const quickchartButtonEl =\n",
              "            document.querySelector('#' + key + ' button');\n",
              "          quickchartButtonEl.disabled = true;  // To prevent multiple clicks.\n",
              "          quickchartButtonEl.classList.add('colab-df-spinner');\n",
              "          try {\n",
              "            const charts = await google.colab.kernel.invokeFunction(\n",
              "                'suggestCharts', [key], {});\n",
              "          } catch (error) {\n",
              "            console.error('Error during call to suggestCharts:', error);\n",
              "          }\n",
              "          quickchartButtonEl.classList.remove('colab-df-spinner');\n",
              "          quickchartButtonEl.classList.add('colab-df-quickchart-complete');\n",
              "        }\n",
              "        (() => {\n",
              "          let quickchartButtonEl =\n",
              "            document.querySelector('#df-889ec162-c175-4cdf-9fe0-8fd8ec12ebee button');\n",
              "          quickchartButtonEl.style.display =\n",
              "            google.colab.kernel.accessAllowed ? 'block' : 'none';\n",
              "        })();\n",
              "      </script>\n",
              "    </div>\n",
              "\n",
              "    </div>\n",
              "  </div>\n"
            ],
            "application/vnd.google.colaboratory.intrinsic+json": {
              "type": "dataframe",
              "variable_name": "df_data",
              "summary": "{\n  \"name\": \"df_data\",\n  \"rows\": 389,\n  \"fields\": [\n    {\n      \"column\": \"PROJECT\",\n      \"properties\": {\n        \"dtype\": \"category\",\n        \"num_unique_values\": 18,\n        \"samples\": [\n          \"16\",\n          \"16a\",\n          \"21\"\n        ],\n        \"semantic_type\": \"\",\n        \"description\": \"\"\n      }\n    },\n    {\n      \"column\": \"REQUIREMENT\",\n      \"properties\": {\n        \"dtype\": \"string\",\n        \"num_unique_values\": 389,\n        \"samples\": [\n          \"Lectura de tickets: Recogida y lectura de los tickets generados desde frontend\",\n          \"Consultar punto. Desde el men\\u00fa lateral, el usuario puede hacer una b\\u00fasqueda de un n\\u00famero determinado de barcos que est\\u00e1n pr\\u00f3ximos a un punto de coordenadas, seleccionado en el mapa, en un instante de tiempo indicado por el usuario. Se visualizar\\u00e1 en el mapa la \\u00faltima posici\\u00f3n de los barcos y una tabla con el resultado obtenido, donde se podr\\u00e1 consultar la ficha y la \\u00faltima posici\\u00f3n de cada barco.\",\n          \"Como usuario autenticado quiero ver el balance de cada uno de mis slots de forma r\\u00e1pida al lado de cada uno.\"\n        ],\n        \"semantic_type\": \"\",\n        \"description\": \"\"\n      }\n    },\n    {\n      \"column\": \"FINAL_LABEL\",\n      \"properties\": {\n        \"dtype\": \"category\",\n        \"num_unique_values\": 2,\n        \"samples\": [\n          \"F\",\n          \"NF\"\n        ],\n        \"semantic_type\": \"\",\n        \"description\": \"\"\n      }\n    }\n  ]\n}"
            }
          },
          "metadata": {},
          "execution_count": 5
        }
      ],
      "source": [
        "df_data = pd.read_csv(\"hf://datasets/MariaIsabel/FR_NFR_Spanish_requirements_classification/New Spanish Academic Dataset.csv\")\n",
        "# para este dataset, no hace falta cuenta de HF\n",
        "df_data.head()"
      ]
    },
    {
      "cell_type": "code",
      "execution_count": 6,
      "metadata": {
        "colab": {
          "base_uri": "https://localhost:8080/",
          "height": 178
        },
        "id": "t9d10udS7p0h",
        "outputId": "a6962d27-3d9c-4063-f277-f1dfd062171b"
      },
      "outputs": [
        {
          "output_type": "execute_result",
          "data": {
            "text/plain": [
              "FINAL_LABEL\n",
              "F     0.771208\n",
              "NF    0.228792\n",
              "Name: proportion, dtype: float64"
            ],
            "text/html": [
              "<div>\n",
              "<style scoped>\n",
              "    .dataframe tbody tr th:only-of-type {\n",
              "        vertical-align: middle;\n",
              "    }\n",
              "\n",
              "    .dataframe tbody tr th {\n",
              "        vertical-align: top;\n",
              "    }\n",
              "\n",
              "    .dataframe thead th {\n",
              "        text-align: right;\n",
              "    }\n",
              "</style>\n",
              "<table border=\"1\" class=\"dataframe\">\n",
              "  <thead>\n",
              "    <tr style=\"text-align: right;\">\n",
              "      <th></th>\n",
              "      <th>proportion</th>\n",
              "    </tr>\n",
              "    <tr>\n",
              "      <th>FINAL_LABEL</th>\n",
              "      <th></th>\n",
              "    </tr>\n",
              "  </thead>\n",
              "  <tbody>\n",
              "    <tr>\n",
              "      <th>F</th>\n",
              "      <td>0.771208</td>\n",
              "    </tr>\n",
              "    <tr>\n",
              "      <th>NF</th>\n",
              "      <td>0.228792</td>\n",
              "    </tr>\n",
              "  </tbody>\n",
              "</table>\n",
              "</div><br><label><b>dtype:</b> float64</label>"
            ]
          },
          "metadata": {},
          "execution_count": 6
        }
      ],
      "source": [
        "df_data['FINAL_LABEL'].value_counts(normalize=True)"
      ]
    },
    {
      "cell_type": "code",
      "execution_count": 7,
      "metadata": {
        "colab": {
          "base_uri": "https://localhost:8080/"
        },
        "id": "IRu8lX8i7j5N",
        "outputId": "25768562-2673-4f13-aed7-985ff3405fe2"
      },
      "outputs": [
        {
          "output_type": "stream",
          "name": "stderr",
          "text": [
            "<ipython-input-7-a0665addef4f>:1: FutureWarning: Downcasting behavior in `replace` is deprecated and will be removed in a future version. To retain the old behavior, explicitly call `result.infer_objects(copy=False)`. To opt-in to the future behavior, set `pd.set_option('future.no_silent_downcasting', True)`\n",
            "  df_data['y_is_nf'] =  df_data['FINAL_LABEL'].replace({\"F\": 0, \"NF\": 1})\n"
          ]
        }
      ],
      "source": [
        "df_data['y_is_nf'] =  df_data['FINAL_LABEL'].replace({\"F\": 0, \"NF\": 1})\n",
        "df_data['y_is_nf'].value_counts(normalize=True)\n",
        "df_data['x_text'] = df_data['REQUIREMENT']"
      ]
    },
    {
      "cell_type": "markdown",
      "metadata": {
        "id": "03pc-S6On_Zj"
      },
      "source": [
        "# Split"
      ]
    },
    {
      "cell_type": "code",
      "execution_count": 8,
      "metadata": {
        "id": "ebWz6Tfxmism"
      },
      "outputs": [],
      "source": [
        "from sklearn.model_selection import train_test_split\n",
        "\n",
        "\n",
        "X_train, X_test, y_train, y_test = train_test_split(\n",
        "    df_data[\"x_text\"],\n",
        "    df_data[\"y_is_nf\"],\n",
        "    test_size=PCT_TEST,\n",
        "    random_state=RND_SEED,\n",
        "    stratify=df_data[\"y_is_nf\"]\n",
        ")"
      ]
    },
    {
      "cell_type": "markdown",
      "metadata": {
        "id": "DCg724RvoBC-"
      },
      "source": [
        "# Tokenization"
      ]
    },
    {
      "cell_type": "code",
      "execution_count": 9,
      "metadata": {
        "id": "Bxl0GRTfiynf"
      },
      "outputs": [],
      "source": [
        "import string\n",
        "from sklearn.feature_extraction.text import TfidfVectorizer, CountVectorizer\n",
        "from sklearn.decomposition import LatentDirichletAllocation\n",
        "import matplotlib.pyplot as plt\n",
        "import seaborn as sns\n",
        "\n",
        "# Tokenization and stemming\n",
        "class SpanishStemTokenizer:\n",
        "    def __init__(self):\n",
        "        self.stemmer = SnowballStemmer(\"spanish\")\n",
        "\n",
        "    def __call__(self, text) -> typing.List[str]:\n",
        "        return [self.stemmer.stem(word) for word in word_tokenize(text) if word not in string.punctuation]\n",
        "\n",
        "tokenizer_es = SpanishStemTokenizer()\n",
        "stopwords_es = nltk.corpus.stopwords.words('spanish')\n",
        "\n",
        "stopwords_es_tok = list(set([tokenizer_es(term.lower())[0] for term in stopwords_es]))\n"
      ]
    },
    {
      "cell_type": "code",
      "execution_count": 10,
      "metadata": {
        "colab": {
          "base_uri": "https://localhost:8080/",
          "height": 178
        },
        "id": "jHGFAtPqug99",
        "outputId": "8bec922e-7ec7-4237-8786-0b15579e5714"
      },
      "outputs": [
        {
          "output_type": "execute_result",
          "data": {
            "text/plain": [
              "y_is_nf\n",
              "0    0.771704\n",
              "1    0.228296\n",
              "Name: proportion, dtype: float64"
            ],
            "text/html": [
              "<div>\n",
              "<style scoped>\n",
              "    .dataframe tbody tr th:only-of-type {\n",
              "        vertical-align: middle;\n",
              "    }\n",
              "\n",
              "    .dataframe tbody tr th {\n",
              "        vertical-align: top;\n",
              "    }\n",
              "\n",
              "    .dataframe thead th {\n",
              "        text-align: right;\n",
              "    }\n",
              "</style>\n",
              "<table border=\"1\" class=\"dataframe\">\n",
              "  <thead>\n",
              "    <tr style=\"text-align: right;\">\n",
              "      <th></th>\n",
              "      <th>proportion</th>\n",
              "    </tr>\n",
              "    <tr>\n",
              "      <th>y_is_nf</th>\n",
              "      <th></th>\n",
              "    </tr>\n",
              "  </thead>\n",
              "  <tbody>\n",
              "    <tr>\n",
              "      <th>0</th>\n",
              "      <td>0.771704</td>\n",
              "    </tr>\n",
              "    <tr>\n",
              "      <th>1</th>\n",
              "      <td>0.228296</td>\n",
              "    </tr>\n",
              "  </tbody>\n",
              "</table>\n",
              "</div><br><label><b>dtype:</b> float64</label>"
            ]
          },
          "metadata": {},
          "execution_count": 10
        }
      ],
      "source": [
        "y_train.value_counts(normalize=True)"
      ]
    },
    {
      "cell_type": "code",
      "execution_count": 11,
      "metadata": {
        "id": "EH8mgNnquQld"
      },
      "outputs": [],
      "source": [
        "from sklearn.metrics import f1_score\n",
        "\n",
        "def compute_f1(X_test, y_test, skl_pl, positive_class = 1):\n",
        "  y_pred = skl_pl.predict(X_test)\n",
        "\n",
        "  return  f1_score(y_test, y_pred, pos_label=positive_class)"
      ]
    },
    {
      "cell_type": "code",
      "source": [],
      "metadata": {
        "id": "i8C3W9ptd6CO"
      },
      "execution_count": null,
      "outputs": []
    },
    {
      "cell_type": "markdown",
      "metadata": {
        "id": "6zGXjmPgunrD"
      },
      "source": [
        "# NB: Binary TF"
      ]
    },
    {
      "cell_type": "code",
      "execution_count": 17,
      "metadata": {
        "colab": {
          "base_uri": "https://localhost:8080/"
        },
        "id": "JLiT7W4OjGDm",
        "outputId": "466cef16-e1c0-47ec-f9ff-754b7ec44949"
      },
      "outputs": [
        {
          "output_type": "stream",
          "name": "stdout",
          "text": [
            "f1_score_test_exp1=0.6428571428571429\n"
          ]
        }
      ],
      "source": [
        "from sklearn.pipeline import Pipeline, FeatureUnion\n",
        "from sklearn.linear_model import LogisticRegression\n",
        "from sklearn.naive_bayes import MultinomialNB, BernoulliNB\n",
        "\n",
        "tfbin_unigrams = CountVectorizer(\n",
        "    strip_accents=\"ascii\",\n",
        "    lowercase=True,\n",
        "    tokenizer=SpanishStemTokenizer(),\n",
        "    stop_words=stopwords_es_tok,\n",
        "    analyzer=\"word\",\n",
        "    ngram_range=(1, 1),\n",
        "    binary=True\n",
        ")\n",
        "\n",
        "clf_nbber = BernoulliNB()\n",
        "\n",
        "# Create the pipeline\n",
        "skl_pl_exp1 = Pipeline([\n",
        "    ('fte', tfbin_unigrams),\n",
        "    ('clf', clf_nbber)\n",
        "])\n",
        "\n",
        "skl_pl_exp1.fit(X_train, y_train)\n",
        "\n",
        "f1_score_train_exp1 = compute_f1(X_test, y_test, skl_pl_exp1)\n",
        "f1_score_test_exp1 = compute_f1(X_test, y_test, skl_pl_exp1)\n",
        "\n",
        "\n",
        "print(f\"{f1_score_test_exp1=}\")"
      ]
    },
    {
      "cell_type": "code",
      "execution_count": null,
      "metadata": {
        "id": "Rw7j9w-JPJIZ"
      },
      "outputs": [],
      "source": [
        "X_train_fte = tfbin_unigrams.transform(X_train)\n",
        "\n",
        "X_train_fte.max(axis=0).todense().max() == 1  # todos los elementos de la DTM son 0 o 1"
      ]
    },
    {
      "cell_type": "code",
      "source": [
        "X_train_fte.shape"
      ],
      "metadata": {
        "colab": {
          "base_uri": "https://localhost:8080/"
        },
        "id": "6yEtT3daeTc4",
        "outputId": "0465edd5-fb04-4107-bd98-90ef46928391"
      },
      "execution_count": 18,
      "outputs": [
        {
          "output_type": "execute_result",
          "data": {
            "text/plain": [
              "(311, 813)"
            ]
          },
          "metadata": {},
          "execution_count": 18
        }
      ]
    },
    {
      "cell_type": "markdown",
      "metadata": {
        "id": "aBUT2rsKwCXW"
      },
      "source": [
        "# NB: TF"
      ]
    },
    {
      "cell_type": "code",
      "execution_count": 19,
      "metadata": {
        "colab": {
          "base_uri": "https://localhost:8080/"
        },
        "id": "H7AUoIZFvd4C",
        "outputId": "dac3fee9-2a62-4727-fffc-cb80f9467af5"
      },
      "outputs": [
        {
          "output_type": "stream",
          "name": "stderr",
          "text": [
            "/usr/local/lib/python3.11/dist-packages/sklearn/feature_extraction/text.py:517: UserWarning: The parameter 'token_pattern' will not be used since 'tokenizer' is not None'\n",
            "  warnings.warn(\n",
            "/usr/local/lib/python3.11/dist-packages/sklearn/feature_extraction/text.py:402: UserWarning: Your stop_words may be inconsistent with your preprocessing. Tokenizing the stop words generated tokens ['tambi'] not in stop_words.\n",
            "  warnings.warn(\n"
          ]
        },
        {
          "output_type": "stream",
          "name": "stdout",
          "text": [
            "f1_score_test_exp2=0.7878787878787878\n"
          ]
        }
      ],
      "source": [
        "tf_unigrams = CountVectorizer(\n",
        "    strip_accents=\"ascii\",\n",
        "    lowercase=True,\n",
        "    tokenizer=SpanishStemTokenizer(),\n",
        "    stop_words=stopwords_es_tok,\n",
        "    analyzer=\"word\",\n",
        "    ngram_range=(1, 1),\n",
        "    binary=False\n",
        ")\n",
        "\n",
        "clf_nbmul = MultinomialNB()\n",
        "\n",
        "# Create the pipeline\n",
        "skl_pl_exp2 = Pipeline([\n",
        "    ('fte', tf_unigrams),\n",
        "    ('clf', clf_nbmul)\n",
        "])\n",
        "\n",
        "skl_pl_exp2.fit(X_train, y_train)\n",
        "\n",
        "f1_score_train_exp2 = compute_f1(X_test, y_test, skl_pl_exp2, )\n",
        "f1_score_test_exp2 = compute_f1(X_test, y_test, skl_pl_exp2)\n",
        "\n",
        "\n",
        "print(f\"{f1_score_test_exp2=}\")"
      ]
    },
    {
      "cell_type": "code",
      "execution_count": 21,
      "metadata": {
        "colab": {
          "base_uri": "https://localhost:8080/"
        },
        "id": "K19guoO3QG0T",
        "outputId": "f780f76a-5008-48a7-92cd-0f824ce6583b"
      },
      "outputs": [
        {
          "output_type": "execute_result",
          "data": {
            "text/plain": [
              "matrix([[ 1,  1,  1,  1,  1,  1,  5,  2,  1,  1,  1,  1,  1,  2,  1,  1,\n",
              "          3,  1,  1,  1,  2,  2,  1,  1,  2,  1,  1,  1,  2,  1,  1,  1,\n",
              "          1,  1,  1,  2,  1,  1,  1,  1,  1,  1,  1,  2,  1,  1,  1,  1,\n",
              "          2,  3,  1,  1,  2,  2,  1,  1,  1,  1,  1,  1,  3,  1,  2,  1,\n",
              "          1,  1,  2,  1,  1,  2,  1,  1,  1,  1,  2,  1,  2,  3,  1,  1,\n",
              "          1,  1,  2,  1,  3,  1, 11,  1,  2,  1,  1,  1,  2,  1,  2,  1,\n",
              "          1,  2,  1,  1,  1,  2,  1,  2,  2,  3,  4,  1,  3,  2,  1,  1,\n",
              "          1,  1,  1,  1,  1,  2,  1,  1,  2,  1,  1,  1,  1,  1,  1,  1,\n",
              "          1,  1,  2,  1,  1,  1,  2,  1,  1,  1,  2,  1,  5,  1,  2,  1,\n",
              "          1,  1,  1,  1,  1,  1,  1,  1,  1,  1,  1,  1,  1,  1,  1,  3,\n",
              "          1,  2,  2,  1,  1,  1,  1,  1,  1,  3,  1,  1,  1,  1,  1,  1,\n",
              "          1,  1,  1,  1,  2,  1,  1,  2,  1,  2,  1,  2,  2,  1,  3,  1,\n",
              "          3,  1,  1,  1,  1,  2,  2,  1,  2,  1,  1,  1,  2,  2,  1,  1,\n",
              "          1,  3,  2,  1,  3,  1,  1,  1,  2,  2,  3,  1,  3,  2,  1,  1,\n",
              "          1,  2,  1,  1,  1,  1,  1,  1,  1,  1,  1,  1,  1,  2,  1,  2,\n",
              "          1,  1,  1,  1,  1,  2,  1,  2,  1,  1,  1,  3,  1,  1,  1,  1,\n",
              "          1,  1,  1,  1,  1,  1,  2,  2,  2,  1,  2,  1,  1,  1,  1,  1,\n",
              "          3,  1,  1,  1,  1,  1,  1,  3,  1,  2,  1,  1,  1,  2,  2,  3,\n",
              "          1,  1,  1,  2,  1,  1,  1,  2,  1,  3,  2,  2,  1,  3,  1,  1,\n",
              "          1,  1,  1,  1,  2,  1,  1,  1,  1,  1,  1,  1,  1,  1,  1,  1,\n",
              "          1,  1,  1,  1,  1,  1,  1,  1,  1,  1,  1,  1,  1,  1,  1,  1,\n",
              "          2,  1,  2,  1,  2,  1,  1,  1,  2,  2,  1,  2,  2,  1,  2,  1,\n",
              "          1,  1,  5,  2,  2,  1,  1,  1,  1,  4,  1,  2,  1,  2,  1,  1,\n",
              "          1,  1,  2,  1,  2,  1,  1,  1,  1,  1,  2,  1,  9,  2,  2,  1,\n",
              "          2,  1,  1,  2,  1,  4,  1,  2,  1,  1,  1,  1,  1,  1,  1,  1,\n",
              "          1,  1,  6,  2,  2,  1,  1,  3,  1,  1,  1,  1,  1,  1,  1,  1,\n",
              "          1,  1,  1,  1,  1,  3,  1,  2,  2,  1,  1,  2,  1,  1,  1,  1,\n",
              "          1,  1,  1,  1,  1,  1,  2,  1,  1,  1,  2,  2,  1,  1,  2,  1,\n",
              "          1,  1,  1,  1,  1,  1,  1,  1,  1,  1,  1,  2,  3,  2,  1,  1,\n",
              "          1,  1,  1,  1,  1,  3,  1,  1,  1,  1,  1,  1,  1,  2,  1,  1,\n",
              "          1,  2,  1,  1,  2,  3,  1,  1,  1,  1,  1,  2,  1,  1,  1,  1,\n",
              "          1,  1,  1,  1,  3,  4,  2,  1,  1,  1,  1,  2,  1,  1,  1,  1,\n",
              "          1,  1,  2,  1,  1,  2,  1,  3,  1,  5,  2,  1,  1,  1,  1,  1,\n",
              "          1,  1,  1,  1,  2,  2,  2,  1,  1,  1,  2,  1,  1,  1,  2,  1,\n",
              "          1,  1,  1,  1,  1,  1,  1,  1,  2,  1,  1,  1,  1,  3,  3,  1,\n",
              "          3,  1,  2,  2,  2,  1,  7,  3,  1,  2,  1,  1,  1,  1,  1,  1,\n",
              "          1,  1,  2,  3,  1,  2,  2,  1,  1,  2,  1,  1,  1,  1,  2,  1,\n",
              "          2,  1,  1,  4,  3,  1,  1,  2,  3,  1,  1,  1,  1,  1,  3,  1,\n",
              "          2,  1,  1,  1,  2,  1,  1,  1,  1,  1,  2,  1,  1,  1,  1,  3,\n",
              "          2,  1,  5,  1,  1,  1,  2,  1,  1,  2,  1,  1,  1,  2,  1,  2,\n",
              "          1,  2,  1,  1,  3,  3,  1,  2,  1,  2,  1,  2,  1,  1,  2,  1,\n",
              "          1,  1,  1,  2,  1,  1,  1,  1,  4,  3,  1,  1,  1,  2,  2,  1,\n",
              "          1,  1,  2,  1,  1,  1,  1,  1,  2,  1,  2,  1,  3,  1,  2,  2,\n",
              "          1,  1,  1,  1,  7,  1,  1,  1,  1,  1,  1,  1,  1,  2,  1,  1,\n",
              "          1,  1,  1,  3,  1,  1,  1,  1,  1,  1,  1,  1,  1,  1,  2,  1,\n",
              "          1,  1,  1,  1,  1,  1,  1,  1,  2,  1,  2,  1,  1,  1,  2,  1,\n",
              "          1,  2,  2,  1,  1,  1,  3,  1,  1,  2,  2,  1,  1,  1,  1,  1,\n",
              "          1,  3,  1,  1,  1,  1,  2,  3,  3,  1,  1,  1,  1,  1,  1,  1,\n",
              "          2,  1,  1,  1,  2,  3,  4,  2,  2,  1,  1,  1,  2,  1, 14,  1,\n",
              "          1,  2,  1,  1,  1,  1,  1,  3,  1,  1,  1,  1,  1,  2,  3,  1,\n",
              "          5,  2,  2,  1,  1,  2,  1,  2,  1,  1,  1,  1,  1]])"
            ]
          },
          "metadata": {},
          "execution_count": 21
        }
      ],
      "source": [
        "X_train_fte_exp2 = tf_unigrams.transform(X_train)\n",
        "\n",
        "X_train_fte_exp2.max(axis=0).todense()"
      ]
    },
    {
      "cell_type": "markdown",
      "metadata": {
        "id": "1AKXypHXwSaJ"
      },
      "source": [
        "# NB: TF + bigrams"
      ]
    },
    {
      "cell_type": "code",
      "execution_count": 22,
      "metadata": {
        "colab": {
          "base_uri": "https://localhost:8080/"
        },
        "id": "yiu7CdNXuJEV",
        "outputId": "359a1ca3-1ced-4cd2-839c-17dc4a9ce47e"
      },
      "outputs": [
        {
          "output_type": "stream",
          "name": "stderr",
          "text": [
            "/usr/local/lib/python3.11/dist-packages/sklearn/feature_extraction/text.py:517: UserWarning: The parameter 'token_pattern' will not be used since 'tokenizer' is not None'\n",
            "  warnings.warn(\n",
            "/usr/local/lib/python3.11/dist-packages/sklearn/feature_extraction/text.py:402: UserWarning: Your stop_words may be inconsistent with your preprocessing. Tokenizing the stop words generated tokens ['tambi'] not in stop_words.\n",
            "  warnings.warn(\n"
          ]
        },
        {
          "output_type": "stream",
          "name": "stdout",
          "text": [
            "f1_score_test_exp3=0.6666666666666666\n"
          ]
        }
      ],
      "source": [
        "tf_unigrams = CountVectorizer(\n",
        "    strip_accents=\"ascii\",\n",
        "    lowercase=True,\n",
        "    tokenizer=SpanishStemTokenizer(),\n",
        "    stop_words=stopwords_es_tok,\n",
        "    analyzer=\"word\",\n",
        "    ngram_range=(1, 2),\n",
        "    max_features=16,\n",
        "    binary=False\n",
        ")\n",
        "\n",
        "\n",
        "tf_bigrams = CountVectorizer(\n",
        "    strip_accents=\"ascii\",\n",
        "    lowercase=True,\n",
        "    tokenizer=SpanishStemTokenizer(),\n",
        "    stop_words=stopwords_es_tok,\n",
        "    analyzer=\"word\",\n",
        "    ngram_range=(2, 2),\n",
        "    max_features=16,\n",
        "    binary=False\n",
        ")\n",
        "\n",
        "\n",
        "# Create a FeatureUnion to combine the outputs of the transformers\n",
        "feature_union = FeatureUnion([\n",
        "    ('unigrams', tf_unigrams),\n",
        "    ('bigrams', tf_bigrams)\n",
        "])\n",
        "\n",
        "clf_nbmul = MultinomialNB()\n",
        "\n",
        "# Create the pipeline\n",
        "skl_pl_exp3 = Pipeline([\n",
        "    ('fte', feature_union),\n",
        "    ('clf', clf_nbmul)\n",
        "])\n",
        "\n",
        "skl_pl_exp3.fit(X_train, y_train)\n",
        "\n",
        "f1_score_train_exp3 = compute_f1(X_test, y_test, skl_pl_exp3, )\n",
        "f1_score_test_exp3 = compute_f1(X_test, y_test, skl_pl_exp3)\n",
        "\n",
        "\n",
        "print(f\"{f1_score_test_exp3=}\")"
      ]
    },
    {
      "cell_type": "markdown",
      "metadata": {
        "id": "Yjr05eP2w6ni"
      },
      "source": [
        "# Benchmark"
      ]
    },
    {
      "cell_type": "code",
      "execution_count": 23,
      "metadata": {
        "colab": {
          "base_uri": "https://localhost:8080/",
          "height": 178
        },
        "id": "aPYo7dmqw8dp",
        "outputId": "1b1857fe-78d3-464c-a4fa-501e1e1e0b14"
      },
      "outputs": [
        {
          "output_type": "execute_result",
          "data": {
            "text/plain": [
              "nb-ber              0.642857\n",
              "nb-multi            0.787879\n",
              "nb-multi-bigrams    0.666667\n",
              "Name: f1_score, dtype: float64"
            ],
            "text/html": [
              "<div>\n",
              "<style scoped>\n",
              "    .dataframe tbody tr th:only-of-type {\n",
              "        vertical-align: middle;\n",
              "    }\n",
              "\n",
              "    .dataframe tbody tr th {\n",
              "        vertical-align: top;\n",
              "    }\n",
              "\n",
              "    .dataframe thead th {\n",
              "        text-align: right;\n",
              "    }\n",
              "</style>\n",
              "<table border=\"1\" class=\"dataframe\">\n",
              "  <thead>\n",
              "    <tr style=\"text-align: right;\">\n",
              "      <th></th>\n",
              "      <th>f1_score</th>\n",
              "    </tr>\n",
              "  </thead>\n",
              "  <tbody>\n",
              "    <tr>\n",
              "      <th>nb-ber</th>\n",
              "      <td>0.642857</td>\n",
              "    </tr>\n",
              "    <tr>\n",
              "      <th>nb-multi</th>\n",
              "      <td>0.787879</td>\n",
              "    </tr>\n",
              "    <tr>\n",
              "      <th>nb-multi-bigrams</th>\n",
              "      <td>0.666667</td>\n",
              "    </tr>\n",
              "  </tbody>\n",
              "</table>\n",
              "</div><br><label><b>dtype:</b> float64</label>"
            ]
          },
          "metadata": {},
          "execution_count": 23
        }
      ],
      "source": [
        "pd.Series(\n",
        "    index=[\"nb-ber\", \"nb-multi\", \"nb-multi-bigrams\"],\n",
        "    data=[f1_score_test_exp1, f1_score_test_exp2, f1_score_test_exp3],\n",
        "    name='f1_score'\n",
        ")"
      ]
    },
    {
      "cell_type": "markdown",
      "metadata": {
        "id": "4WeF94-dxiKS"
      },
      "source": [
        "# Champion"
      ]
    },
    {
      "cell_type": "code",
      "execution_count": 24,
      "metadata": {
        "id": "Gm-DjLA3xe7v"
      },
      "outputs": [],
      "source": [
        "skl_pl_champ = skl_pl_exp2\n",
        "\n",
        "nb_champ = skl_pl_champ.named_steps['clf']"
      ]
    },
    {
      "cell_type": "markdown",
      "metadata": {
        "id": "1sTtuCXGzduA"
      },
      "source": [
        "# Debug"
      ]
    },
    {
      "cell_type": "code",
      "execution_count": 25,
      "metadata": {
        "colab": {
          "base_uri": "https://localhost:8080/",
          "height": 241
        },
        "id": "iKgsulqOz4fq",
        "outputId": "03d307af-ff00-40a2-aeb3-ab1095582c29"
      },
      "outputs": [
        {
          "output_type": "execute_result",
          "data": {
            "text/plain": [
              "385    Respuestas coherentes e idénticas ante entrada...\n",
              "299    Gestión de usuarios: Todos los administradores...\n",
              "224    Añadir numero de una revista. Para ello debemo...\n",
              "103    Un usuario registrado visualiza la tabla de en...\n",
              "198    Como usuario quiero poder ordenar las listas d...\n",
              "Name: x_text, dtype: object"
            ],
            "text/html": [
              "<div>\n",
              "<style scoped>\n",
              "    .dataframe tbody tr th:only-of-type {\n",
              "        vertical-align: middle;\n",
              "    }\n",
              "\n",
              "    .dataframe tbody tr th {\n",
              "        vertical-align: top;\n",
              "    }\n",
              "\n",
              "    .dataframe thead th {\n",
              "        text-align: right;\n",
              "    }\n",
              "</style>\n",
              "<table border=\"1\" class=\"dataframe\">\n",
              "  <thead>\n",
              "    <tr style=\"text-align: right;\">\n",
              "      <th></th>\n",
              "      <th>x_text</th>\n",
              "    </tr>\n",
              "  </thead>\n",
              "  <tbody>\n",
              "    <tr>\n",
              "      <th>385</th>\n",
              "      <td>Respuestas coherentes e idénticas ante entrada...</td>\n",
              "    </tr>\n",
              "    <tr>\n",
              "      <th>299</th>\n",
              "      <td>Gestión de usuarios: Todos los administradores...</td>\n",
              "    </tr>\n",
              "    <tr>\n",
              "      <th>224</th>\n",
              "      <td>Añadir numero de una revista. Para ello debemo...</td>\n",
              "    </tr>\n",
              "    <tr>\n",
              "      <th>103</th>\n",
              "      <td>Un usuario registrado visualiza la tabla de en...</td>\n",
              "    </tr>\n",
              "    <tr>\n",
              "      <th>198</th>\n",
              "      <td>Como usuario quiero poder ordenar las listas d...</td>\n",
              "    </tr>\n",
              "  </tbody>\n",
              "</table>\n",
              "</div><br><label><b>dtype:</b> object</label>"
            ]
          },
          "metadata": {},
          "execution_count": 25
        }
      ],
      "source": [
        "X_train.head()"
      ]
    },
    {
      "cell_type": "code",
      "execution_count": 26,
      "metadata": {
        "colab": {
          "base_uri": "https://localhost:8080/"
        },
        "id": "OcDqq6rU0c_1",
        "outputId": "21ab6e31-c3bc-4aed-d35e-a35d4e728319"
      },
      "outputs": [
        {
          "output_type": "execute_result",
          "data": {
            "text/plain": [
              "(311,)"
            ]
          },
          "metadata": {},
          "execution_count": 26
        }
      ],
      "source": [
        "X_train.shape"
      ]
    },
    {
      "cell_type": "code",
      "execution_count": 27,
      "metadata": {
        "colab": {
          "base_uri": "https://localhost:8080/",
          "height": 178
        },
        "id": "6pjvVBcs0kTW",
        "outputId": "0e84add1-8805-46b7-bb5c-f2501b2e6a6c"
      },
      "outputs": [
        {
          "output_type": "execute_result",
          "data": {
            "text/plain": [
              "y_is_nf\n",
              "0    300\n",
              "1     89\n",
              "Name: count, dtype: int64"
            ],
            "text/html": [
              "<div>\n",
              "<style scoped>\n",
              "    .dataframe tbody tr th:only-of-type {\n",
              "        vertical-align: middle;\n",
              "    }\n",
              "\n",
              "    .dataframe tbody tr th {\n",
              "        vertical-align: top;\n",
              "    }\n",
              "\n",
              "    .dataframe thead th {\n",
              "        text-align: right;\n",
              "    }\n",
              "</style>\n",
              "<table border=\"1\" class=\"dataframe\">\n",
              "  <thead>\n",
              "    <tr style=\"text-align: right;\">\n",
              "      <th></th>\n",
              "      <th>count</th>\n",
              "    </tr>\n",
              "    <tr>\n",
              "      <th>y_is_nf</th>\n",
              "      <th></th>\n",
              "    </tr>\n",
              "  </thead>\n",
              "  <tbody>\n",
              "    <tr>\n",
              "      <th>0</th>\n",
              "      <td>300</td>\n",
              "    </tr>\n",
              "    <tr>\n",
              "      <th>1</th>\n",
              "      <td>89</td>\n",
              "    </tr>\n",
              "  </tbody>\n",
              "</table>\n",
              "</div><br><label><b>dtype:</b> int64</label>"
            ]
          },
          "metadata": {},
          "execution_count": 27
        }
      ],
      "source": [
        "df_data['y_is_nf'].value_counts()"
      ]
    },
    {
      "cell_type": "code",
      "execution_count": 28,
      "metadata": {
        "colab": {
          "base_uri": "https://localhost:8080/"
        },
        "id": "tKSoP8eWzhae",
        "outputId": "52238376-80d8-449e-87e2-1c998c5f0b99"
      },
      "outputs": [
        {
          "output_type": "execute_result",
          "data": {
            "text/plain": [
              "array([0, 0, 1, 0, 0, 0])"
            ]
          },
          "metadata": {},
          "execution_count": 28
        }
      ],
      "source": [
        "X_debug = pd.Series([\n",
        "    \"El boton de cálculo devuelve datos erróneos\",\n",
        "    \"El grafico no muestra las unidades en losejes\",\n",
        "    \"La latencia de la aplicación es muy alta, debe ejecutarse en tiempo lineal\",\n",
        "    \"The authentification page does not let you see the password to verify\",\n",
        "    \"Aplikazioaren latentzia oso handia da, denbora linealean exekutatu beharko litzateke.\",\n",
        "    \"La latència de l'aplicació és molt alta, s'hauria d'executar en temps lineal.\"\n",
        "\n",
        "], name='x_text')\n",
        "\n",
        "\n",
        "skl_pl_champ.predict(X_debug)"
      ]
    },
    {
      "cell_type": "code",
      "execution_count": 29,
      "metadata": {
        "id": "Iw_0OLqH1PKd"
      },
      "outputs": [],
      "source": [
        "X_debug_fte = skl_pl_champ.named_steps['fte'].transform(X_debug)"
      ]
    },
    {
      "cell_type": "code",
      "execution_count": 30,
      "metadata": {
        "colab": {
          "base_uri": "https://localhost:8080/"
        },
        "id": "pQmEUITazxJQ",
        "outputId": "01956ea4-282b-478c-eb1d-7e6f7a4e5bbb"
      },
      "outputs": [
        {
          "output_type": "execute_result",
          "data": {
            "text/plain": [
              "matrix([[3],\n",
              "        [2],\n",
              "        [6],\n",
              "        [1],\n",
              "        [2],\n",
              "        [2]])"
            ]
          },
          "metadata": {},
          "execution_count": 30
        }
      ],
      "source": [
        "X_debug_fte.sum(axis=1)"
      ]
    },
    {
      "cell_type": "code",
      "execution_count": 31,
      "metadata": {
        "colab": {
          "base_uri": "https://localhost:8080/",
          "height": 143
        },
        "id": "5ehejFE41ygc",
        "outputId": "19539b0a-4d3b-45d6-f79b-a61c51ad354a"
      },
      "outputs": [
        {
          "output_type": "execute_result",
          "data": {
            "text/plain": [
              "         count       mean        std  min  25%   50%   75%   max\n",
              "y_is_nf                                                         \n",
              "0         60.0  14.250000  10.932187  3.0  6.0  10.5  19.5  42.0\n",
              "1         18.0   8.111111   3.512815  3.0  6.0   7.5  10.0  18.0"
            ],
            "text/html": [
              "\n",
              "  <div id=\"df-67db2e99-9d7e-42a4-bf9e-d613f688eddc\" class=\"colab-df-container\">\n",
              "    <div>\n",
              "<style scoped>\n",
              "    .dataframe tbody tr th:only-of-type {\n",
              "        vertical-align: middle;\n",
              "    }\n",
              "\n",
              "    .dataframe tbody tr th {\n",
              "        vertical-align: top;\n",
              "    }\n",
              "\n",
              "    .dataframe thead th {\n",
              "        text-align: right;\n",
              "    }\n",
              "</style>\n",
              "<table border=\"1\" class=\"dataframe\">\n",
              "  <thead>\n",
              "    <tr style=\"text-align: right;\">\n",
              "      <th></th>\n",
              "      <th>count</th>\n",
              "      <th>mean</th>\n",
              "      <th>std</th>\n",
              "      <th>min</th>\n",
              "      <th>25%</th>\n",
              "      <th>50%</th>\n",
              "      <th>75%</th>\n",
              "      <th>max</th>\n",
              "    </tr>\n",
              "    <tr>\n",
              "      <th>y_is_nf</th>\n",
              "      <th></th>\n",
              "      <th></th>\n",
              "      <th></th>\n",
              "      <th></th>\n",
              "      <th></th>\n",
              "      <th></th>\n",
              "      <th></th>\n",
              "      <th></th>\n",
              "    </tr>\n",
              "  </thead>\n",
              "  <tbody>\n",
              "    <tr>\n",
              "      <th>0</th>\n",
              "      <td>60.0</td>\n",
              "      <td>14.250000</td>\n",
              "      <td>10.932187</td>\n",
              "      <td>3.0</td>\n",
              "      <td>6.0</td>\n",
              "      <td>10.5</td>\n",
              "      <td>19.5</td>\n",
              "      <td>42.0</td>\n",
              "    </tr>\n",
              "    <tr>\n",
              "      <th>1</th>\n",
              "      <td>18.0</td>\n",
              "      <td>8.111111</td>\n",
              "      <td>3.512815</td>\n",
              "      <td>3.0</td>\n",
              "      <td>6.0</td>\n",
              "      <td>7.5</td>\n",
              "      <td>10.0</td>\n",
              "      <td>18.0</td>\n",
              "    </tr>\n",
              "  </tbody>\n",
              "</table>\n",
              "</div>\n",
              "    <div class=\"colab-df-buttons\">\n",
              "\n",
              "  <div class=\"colab-df-container\">\n",
              "    <button class=\"colab-df-convert\" onclick=\"convertToInteractive('df-67db2e99-9d7e-42a4-bf9e-d613f688eddc')\"\n",
              "            title=\"Convert this dataframe to an interactive table.\"\n",
              "            style=\"display:none;\">\n",
              "\n",
              "  <svg xmlns=\"http://www.w3.org/2000/svg\" height=\"24px\" viewBox=\"0 -960 960 960\">\n",
              "    <path d=\"M120-120v-720h720v720H120Zm60-500h600v-160H180v160Zm220 220h160v-160H400v160Zm0 220h160v-160H400v160ZM180-400h160v-160H180v160Zm440 0h160v-160H620v160ZM180-180h160v-160H180v160Zm440 0h160v-160H620v160Z\"/>\n",
              "  </svg>\n",
              "    </button>\n",
              "\n",
              "  <style>\n",
              "    .colab-df-container {\n",
              "      display:flex;\n",
              "      gap: 12px;\n",
              "    }\n",
              "\n",
              "    .colab-df-convert {\n",
              "      background-color: #E8F0FE;\n",
              "      border: none;\n",
              "      border-radius: 50%;\n",
              "      cursor: pointer;\n",
              "      display: none;\n",
              "      fill: #1967D2;\n",
              "      height: 32px;\n",
              "      padding: 0 0 0 0;\n",
              "      width: 32px;\n",
              "    }\n",
              "\n",
              "    .colab-df-convert:hover {\n",
              "      background-color: #E2EBFA;\n",
              "      box-shadow: 0px 1px 2px rgba(60, 64, 67, 0.3), 0px 1px 3px 1px rgba(60, 64, 67, 0.15);\n",
              "      fill: #174EA6;\n",
              "    }\n",
              "\n",
              "    .colab-df-buttons div {\n",
              "      margin-bottom: 4px;\n",
              "    }\n",
              "\n",
              "    [theme=dark] .colab-df-convert {\n",
              "      background-color: #3B4455;\n",
              "      fill: #D2E3FC;\n",
              "    }\n",
              "\n",
              "    [theme=dark] .colab-df-convert:hover {\n",
              "      background-color: #434B5C;\n",
              "      box-shadow: 0px 1px 3px 1px rgba(0, 0, 0, 0.15);\n",
              "      filter: drop-shadow(0px 1px 2px rgba(0, 0, 0, 0.3));\n",
              "      fill: #FFFFFF;\n",
              "    }\n",
              "  </style>\n",
              "\n",
              "    <script>\n",
              "      const buttonEl =\n",
              "        document.querySelector('#df-67db2e99-9d7e-42a4-bf9e-d613f688eddc button.colab-df-convert');\n",
              "      buttonEl.style.display =\n",
              "        google.colab.kernel.accessAllowed ? 'block' : 'none';\n",
              "\n",
              "      async function convertToInteractive(key) {\n",
              "        const element = document.querySelector('#df-67db2e99-9d7e-42a4-bf9e-d613f688eddc');\n",
              "        const dataTable =\n",
              "          await google.colab.kernel.invokeFunction('convertToInteractive',\n",
              "                                                    [key], {});\n",
              "        if (!dataTable) return;\n",
              "\n",
              "        const docLinkHtml = 'Like what you see? Visit the ' +\n",
              "          '<a target=\"_blank\" href=https://colab.research.google.com/notebooks/data_table.ipynb>data table notebook</a>'\n",
              "          + ' to learn more about interactive tables.';\n",
              "        element.innerHTML = '';\n",
              "        dataTable['output_type'] = 'display_data';\n",
              "        await google.colab.output.renderOutput(dataTable, element);\n",
              "        const docLink = document.createElement('div');\n",
              "        docLink.innerHTML = docLinkHtml;\n",
              "        element.appendChild(docLink);\n",
              "      }\n",
              "    </script>\n",
              "  </div>\n",
              "\n",
              "\n",
              "    <div id=\"df-4abe2dc0-16c7-4024-829e-88384b63bf26\">\n",
              "      <button class=\"colab-df-quickchart\" onclick=\"quickchart('df-4abe2dc0-16c7-4024-829e-88384b63bf26')\"\n",
              "                title=\"Suggest charts\"\n",
              "                style=\"display:none;\">\n",
              "\n",
              "<svg xmlns=\"http://www.w3.org/2000/svg\" height=\"24px\"viewBox=\"0 0 24 24\"\n",
              "     width=\"24px\">\n",
              "    <g>\n",
              "        <path d=\"M19 3H5c-1.1 0-2 .9-2 2v14c0 1.1.9 2 2 2h14c1.1 0 2-.9 2-2V5c0-1.1-.9-2-2-2zM9 17H7v-7h2v7zm4 0h-2V7h2v10zm4 0h-2v-4h2v4z\"/>\n",
              "    </g>\n",
              "</svg>\n",
              "      </button>\n",
              "\n",
              "<style>\n",
              "  .colab-df-quickchart {\n",
              "      --bg-color: #E8F0FE;\n",
              "      --fill-color: #1967D2;\n",
              "      --hover-bg-color: #E2EBFA;\n",
              "      --hover-fill-color: #174EA6;\n",
              "      --disabled-fill-color: #AAA;\n",
              "      --disabled-bg-color: #DDD;\n",
              "  }\n",
              "\n",
              "  [theme=dark] .colab-df-quickchart {\n",
              "      --bg-color: #3B4455;\n",
              "      --fill-color: #D2E3FC;\n",
              "      --hover-bg-color: #434B5C;\n",
              "      --hover-fill-color: #FFFFFF;\n",
              "      --disabled-bg-color: #3B4455;\n",
              "      --disabled-fill-color: #666;\n",
              "  }\n",
              "\n",
              "  .colab-df-quickchart {\n",
              "    background-color: var(--bg-color);\n",
              "    border: none;\n",
              "    border-radius: 50%;\n",
              "    cursor: pointer;\n",
              "    display: none;\n",
              "    fill: var(--fill-color);\n",
              "    height: 32px;\n",
              "    padding: 0;\n",
              "    width: 32px;\n",
              "  }\n",
              "\n",
              "  .colab-df-quickchart:hover {\n",
              "    background-color: var(--hover-bg-color);\n",
              "    box-shadow: 0 1px 2px rgba(60, 64, 67, 0.3), 0 1px 3px 1px rgba(60, 64, 67, 0.15);\n",
              "    fill: var(--button-hover-fill-color);\n",
              "  }\n",
              "\n",
              "  .colab-df-quickchart-complete:disabled,\n",
              "  .colab-df-quickchart-complete:disabled:hover {\n",
              "    background-color: var(--disabled-bg-color);\n",
              "    fill: var(--disabled-fill-color);\n",
              "    box-shadow: none;\n",
              "  }\n",
              "\n",
              "  .colab-df-spinner {\n",
              "    border: 2px solid var(--fill-color);\n",
              "    border-color: transparent;\n",
              "    border-bottom-color: var(--fill-color);\n",
              "    animation:\n",
              "      spin 1s steps(1) infinite;\n",
              "  }\n",
              "\n",
              "  @keyframes spin {\n",
              "    0% {\n",
              "      border-color: transparent;\n",
              "      border-bottom-color: var(--fill-color);\n",
              "      border-left-color: var(--fill-color);\n",
              "    }\n",
              "    20% {\n",
              "      border-color: transparent;\n",
              "      border-left-color: var(--fill-color);\n",
              "      border-top-color: var(--fill-color);\n",
              "    }\n",
              "    30% {\n",
              "      border-color: transparent;\n",
              "      border-left-color: var(--fill-color);\n",
              "      border-top-color: var(--fill-color);\n",
              "      border-right-color: var(--fill-color);\n",
              "    }\n",
              "    40% {\n",
              "      border-color: transparent;\n",
              "      border-right-color: var(--fill-color);\n",
              "      border-top-color: var(--fill-color);\n",
              "    }\n",
              "    60% {\n",
              "      border-color: transparent;\n",
              "      border-right-color: var(--fill-color);\n",
              "    }\n",
              "    80% {\n",
              "      border-color: transparent;\n",
              "      border-right-color: var(--fill-color);\n",
              "      border-bottom-color: var(--fill-color);\n",
              "    }\n",
              "    90% {\n",
              "      border-color: transparent;\n",
              "      border-bottom-color: var(--fill-color);\n",
              "    }\n",
              "  }\n",
              "</style>\n",
              "\n",
              "      <script>\n",
              "        async function quickchart(key) {\n",
              "          const quickchartButtonEl =\n",
              "            document.querySelector('#' + key + ' button');\n",
              "          quickchartButtonEl.disabled = true;  // To prevent multiple clicks.\n",
              "          quickchartButtonEl.classList.add('colab-df-spinner');\n",
              "          try {\n",
              "            const charts = await google.colab.kernel.invokeFunction(\n",
              "                'suggestCharts', [key], {});\n",
              "          } catch (error) {\n",
              "            console.error('Error during call to suggestCharts:', error);\n",
              "          }\n",
              "          quickchartButtonEl.classList.remove('colab-df-spinner');\n",
              "          quickchartButtonEl.classList.add('colab-df-quickchart-complete');\n",
              "        }\n",
              "        (() => {\n",
              "          let quickchartButtonEl =\n",
              "            document.querySelector('#df-4abe2dc0-16c7-4024-829e-88384b63bf26 button');\n",
              "          quickchartButtonEl.style.display =\n",
              "            google.colab.kernel.accessAllowed ? 'block' : 'none';\n",
              "        })();\n",
              "      </script>\n",
              "    </div>\n",
              "\n",
              "    </div>\n",
              "  </div>\n"
            ],
            "application/vnd.google.colaboratory.intrinsic+json": {
              "type": "dataframe",
              "summary": "{\n  \"name\": \"df_tf_by_doc\",\n  \"rows\": 2,\n  \"fields\": [\n    {\n      \"column\": \"y_is_nf\",\n      \"properties\": {\n        \"dtype\": \"number\",\n        \"std\": 0,\n        \"min\": 0,\n        \"max\": 1,\n        \"num_unique_values\": 2,\n        \"samples\": [\n          1,\n          0\n        ],\n        \"semantic_type\": \"\",\n        \"description\": \"\"\n      }\n    },\n    {\n      \"column\": \"count\",\n      \"properties\": {\n        \"dtype\": \"number\",\n        \"std\": 29.698484809834994,\n        \"min\": 18.0,\n        \"max\": 60.0,\n        \"num_unique_values\": 2,\n        \"samples\": [\n          18.0,\n          60.0\n        ],\n        \"semantic_type\": \"\",\n        \"description\": \"\"\n      }\n    },\n    {\n      \"column\": \"mean\",\n      \"properties\": {\n        \"dtype\": \"number\",\n        \"std\": 4.340849962284084,\n        \"min\": 8.11111111111111,\n        \"max\": 14.25,\n        \"num_unique_values\": 2,\n        \"samples\": [\n          8.11111111111111,\n          14.25\n        ],\n        \"semantic_type\": \"\",\n        \"description\": \"\"\n      }\n    },\n    {\n      \"column\": \"std\",\n      \"properties\": {\n        \"dtype\": \"number\",\n        \"std\": 5.246288223741235,\n        \"min\": 3.5128150080876375,\n        \"max\": 10.932186966220748,\n        \"num_unique_values\": 2,\n        \"samples\": [\n          3.5128150080876375,\n          10.932186966220748\n        ],\n        \"semantic_type\": \"\",\n        \"description\": \"\"\n      }\n    },\n    {\n      \"column\": \"min\",\n      \"properties\": {\n        \"dtype\": \"number\",\n        \"std\": 0.0,\n        \"min\": 3.0,\n        \"max\": 3.0,\n        \"num_unique_values\": 1,\n        \"samples\": [\n          3.0\n        ],\n        \"semantic_type\": \"\",\n        \"description\": \"\"\n      }\n    },\n    {\n      \"column\": \"25%\",\n      \"properties\": {\n        \"dtype\": \"number\",\n        \"std\": 0.0,\n        \"min\": 6.0,\n        \"max\": 6.0,\n        \"num_unique_values\": 1,\n        \"samples\": [\n          6.0\n        ],\n        \"semantic_type\": \"\",\n        \"description\": \"\"\n      }\n    },\n    {\n      \"column\": \"50%\",\n      \"properties\": {\n        \"dtype\": \"number\",\n        \"std\": 2.1213203435596424,\n        \"min\": 7.5,\n        \"max\": 10.5,\n        \"num_unique_values\": 2,\n        \"samples\": [\n          7.5\n        ],\n        \"semantic_type\": \"\",\n        \"description\": \"\"\n      }\n    },\n    {\n      \"column\": \"75%\",\n      \"properties\": {\n        \"dtype\": \"number\",\n        \"std\": 6.7175144212722016,\n        \"min\": 10.0,\n        \"max\": 19.5,\n        \"num_unique_values\": 2,\n        \"samples\": [\n          10.0\n        ],\n        \"semantic_type\": \"\",\n        \"description\": \"\"\n      }\n    },\n    {\n      \"column\": \"max\",\n      \"properties\": {\n        \"dtype\": \"number\",\n        \"std\": 16.97056274847714,\n        \"min\": 18.0,\n        \"max\": 42.0,\n        \"num_unique_values\": 2,\n        \"samples\": [\n          18.0\n        ],\n        \"semantic_type\": \"\",\n        \"description\": \"\"\n      }\n    }\n  ]\n}"
            }
          },
          "metadata": {},
          "execution_count": 31
        }
      ],
      "source": [
        "# ¿Qué está haciendo el modelo?\n",
        "\n",
        "X_train_fte = skl_pl_champ.named_steps['fte'].transform(X_train)\n",
        "X_test_fte = skl_pl_champ.named_steps['fte'].transform(X_test)\n",
        "\n",
        "df_tf_by_doc =  pd.DataFrame(\n",
        "    index=X_test.index,\n",
        "    data=X_test_fte.sum(axis=1),\n",
        "    columns=[\"sum_tf_by_doc\"])\n",
        "df_tf_by_doc['y_is_nf'] = y_test\n",
        "\n",
        "df_tf_by_doc.groupby(\"y_is_nf\")['sum_tf_by_doc'].describe()"
      ]
    },
    {
      "cell_type": "code",
      "execution_count": 32,
      "metadata": {
        "colab": {
          "base_uri": "https://localhost:8080/",
          "height": 564
        },
        "id": "592UAK2-3DkE",
        "outputId": "5b8ebeba-08f6-4669-c2b8-90c34a3813d1"
      },
      "outputs": [
        {
          "output_type": "display_data",
          "data": {
            "text/plain": [
              "<Figure size 800x600 with 1 Axes>"
            ],
            "image/png": "[encoded data removed]"
          },
          "metadata": {}
        }
      ],
      "source": [
        "# prompt: plot the distribuitions over 'FINAL_LABEL' of column `sum_tf_by_doc` in `df_tf_by_doc`\n",
        "\n",
        "import matplotlib.pyplot as plt\n",
        "plt.figure(figsize=(8, 6))\n",
        "sns.boxplot(x='y_is_nf', y='sum_tf_by_doc', data=df_tf_by_doc)\n",
        "plt.title('Distribution of sum_tf_by_doc by y_is_nf')\n",
        "plt.xlabel('y_is_nf')\n",
        "plt.ylabel('Sum of TF by Document')\n",
        "plt.show()"
      ]
    },
    {
      "cell_type": "markdown",
      "metadata": {
        "id": "sU5QXUfv3jcq"
      },
      "source": [
        "¿Qué hace el modelo?\n",
        "* Los textos de la clase mayoritaria (en este caso 'F') hacen más matches a lo largo de su fila de la DTM\n",
        "* Por otro lado, los de la clase minoritaria exhiben el comportamiento contrario\n",
        "* Sin embargo, si hubiera textos en otros idiomas (porque en producción entrasen sin ser detectados), harían pocos matches en la DTM e irían a la clase 'F', que es la mayoritaria y captura el 'ruido' , observándose un `sesgo de predicción` en dicha clase en producción"
      ]
    },
    {
      "cell_type": "markdown",
      "metadata": {
        "id": "R7XQy8mb4oi9"
      },
      "source": [
        "# Importancia de variables"
      ]
    },
    {
      "cell_type": "code",
      "execution_count": 33,
      "metadata": {
        "colab": {
          "base_uri": "https://localhost:8080/"
        },
        "id": "rkTBi2RZxo0d",
        "outputId": "6743e9c2-0f81-4ec4-cf0f-499fd59ef490"
      },
      "outputs": [
        {
          "output_type": "execute_result",
          "data": {
            "text/plain": [
              "(2, 813)"
            ]
          },
          "metadata": {},
          "execution_count": 33
        }
      ],
      "source": [
        "P_xi_y = nb_champ.feature_log_prob_ # Empirical log probability of features given a class, P(x_i|y).\n",
        "P_xi_y.shape  # [classes, n_features]"
      ]
    },
    {
      "cell_type": "code",
      "execution_count": 34,
      "metadata": {
        "colab": {
          "base_uri": "https://localhost:8080/"
        },
        "id": "6yEGnVosyNQi",
        "outputId": "b4b495f6-8f0b-4490-d389-b4839256d3f2"
      },
      "outputs": [
        {
          "output_type": "stream",
          "name": "stdout",
          "text": [
            "      feature  feature_importance\n",
            "445    intuit            3.286657\n",
            "438  interfaz            3.035342\n",
            "338     facil            2.881192\n",
            "159  conexion            2.881192\n",
            "124      cerr            2.698870\n"
          ]
        }
      ],
      "source": [
        "feat_imp = P_xi_y[1] - P_xi_y[0]  # clase 1 vs clase 0\n",
        "top_features = pd.DataFrame({\n",
        "    'feature':  skl_pl_champ.named_steps['fte'].get_feature_names_out(),\n",
        "    'feature_importance': feat_imp\n",
        "}).sort_values(by='feature_importance', ascending=False)\n",
        "\n",
        "print(top_features.head())"
      ]
    },
    {
      "cell_type": "code",
      "execution_count": 35,
      "metadata": {
        "colab": {
          "base_uri": "https://localhost:8080/",
          "height": 472
        },
        "id": "bqr-iV7tysWm",
        "outputId": "a279dddf-2cd9-44c9-845c-dbf397471651"
      },
      "outputs": [
        {
          "output_type": "display_data",
          "data": {
            "text/plain": [
              "<Figure size 640x480 with 1 Axes>"
            ],
            "image/png": "[encoded data removed]"
          },
          "metadata": {}
        }
      ],
      "source": [
        "top_n = 10\n",
        "top_features[:top_n].plot(kind='barh', x='feature', y='feature_importance', legend=False)\n",
        "plt.title(\"Top características indicativas para clase 1 vs 0\")\n",
        "plt.xlabel(\"Log probabilidad diferencia\")\n",
        "plt.gca().invert_yaxis()\n",
        "plt.show()"
      ]
    },
    {
      "cell_type": "code",
      "execution_count": 36,
      "metadata": {
        "colab": {
          "base_uri": "https://localhost:8080/",
          "height": 490
        },
        "id": "JLiXjJx26j7q",
        "outputId": "57b1e7b1-db2c-40c8-f7e6-83cd5e20adff"
      },
      "outputs": [
        {
          "output_type": "display_data",
          "data": {
            "text/plain": [
              "<Figure size 1000x600 with 0 Axes>"
            ]
          },
          "metadata": {}
        },
        {
          "output_type": "display_data",
          "data": {
            "text/plain": [
              "<Figure size 640x480 with 1 Axes>"
            ],
            "image/png": "[encoded data removed]"
          },
          "metadata": {}
        }
      ],
      "source": [
        "bottom_n = 10\n",
        "\n",
        "plt.figure(figsize=(10, 6))\n",
        "\n",
        "top_features[-bottom_n:].sort_values(by='feature_importance', ascending=True).plot(kind='barh', x='feature', y='feature_importance', legend=False)\n",
        "plt.title(f\"Bottom {bottom_n} características (menos importantes) para clase 1 vs 0\")\n",
        "plt.xlabel(\"Log probabilidad diferencia\")\n",
        "plt.show()"
      ]
    },
    {
      "cell_type": "markdown",
      "metadata": {
        "id": "Xueosvvdwd0a"
      },
      "source": [
        "# Ejercicio\n",
        "1. Implementar una pipeline de clasificación basada en [Regresion Logistica](LogisticRegression), ensayando los tipos de vectorización que sean mas convenientes\n",
        "2. Obtener el f1-score de test\n",
        "3. Obtener los 5 términos más importantes para el modelo\n"
      ]
    },
    {
      "cell_type": "code",
      "execution_count": null,
      "metadata": {
        "id": "eOmGQE9B40Pg"
      },
      "outputs": [],
      "source": []
    }
  ],
  "metadata": {
    "colab": {
      "provenance": [],
      "toc_visible": true,
      "authorship_tag": "ABX9TyMu1O8p+ipORtrSle9deW5n",
      "include_colab_link": true
    },
    "kernelspec": {
      "display_name": "Python 3",
      "name": "python3"
    },
    "language_info": {
      "name": "python"
    }
  },
  "nbformat": 4,
  "nbformat_minor": 0
}