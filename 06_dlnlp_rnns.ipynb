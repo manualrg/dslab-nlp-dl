{
  "nbformat": 4,
  "nbformat_minor": 0,
  "metadata": {
    "colab": {
      "provenance": [],
      "authorship_tag": "ABX9TyP9faVCIVOkkaoIDRZY/hrD",
      "include_colab_link": true
    },
    "kernelspec": {
      "name": "python3",
      "display_name": "Python 3"
    },
    "language_info": {
      "name": "python"
    }
  },
  "cells": [
    {
      "cell_type": "markdown",
      "metadata": {
        "id": "view-in-github",
        "colab_type": "text"
      },
      "source": [
        "<a href=\"https://colab.research.google.com/github/manualrg/dslab-nlp-dl/blob/master/06_dlnlp_rnns.ipynb\" target=\"_parent\"><img src=\"https://colab.research.google.com/assets/colab-badge.svg\" alt=\"Open In Colab\"/></a>"
      ]
    },
    {
      "cell_type": "markdown",
      "source": [
        "# Redes Neuronales Recurrentes"
      ],
      "metadata": {
        "id": "cuV7Lcaj1FBt"
      }
    },
    {
      "cell_type": "code",
      "execution_count": null,
      "metadata": {
        "id": "IKwyDf1LHUmX"
      },
      "outputs": [],
      "source": [
        "import typing\n",
        "\n",
        "import numpy as np\n",
        "import pandas as pd\n",
        "from matplotlib import pyplot as plt"
      ]
    },
    {
      "cell_type": "code",
      "source": [
        "print(f\"{np.__version__=}\")\n",
        "print(f\"{pd.__version__=}\")"
      ],
      "metadata": {
        "colab": {
          "base_uri": "https://localhost:8080/"
        },
        "id": "VWvS4LxEHqnX",
        "outputId": "d9dc865c-75e4-46dd-d734-a5fd390068a4"
      },
      "execution_count": null,
      "outputs": [
        {
          "output_type": "stream",
          "name": "stdout",
          "text": [
            "np.__version__='2.0.2'\n",
            "pd.__version__='2.2.2'\n"
          ]
        }
      ]
    },
    {
      "cell_type": "markdown",
      "source": [
        "# Introducción: Neurona Artificial"
      ],
      "metadata": {
        "id": "nJAMt3Se7Hze"
      }
    },
    {
      "cell_type": "code",
      "source": [
        "# Dataset (X: inputs, y: outputs)\n",
        "\n",
        "X = np.array([[0, 0],\n",
        "              [0, 1],\n",
        "              [1, 0],\n",
        "              [1, 1]])\n",
        "\n",
        "y = np.array([0, 0, 0, 1]) # clasificacion binaria\n",
        "\n",
        "# Inicialización de parametros: w ~random, b =0\n",
        "weights = np.random.rand(X.shape[1])\n",
        "bias = 0\n",
        "\n",
        "# Funcion de activacion (Heaviside step function)\n",
        "def activate(summation):\n",
        "  return 1 if summation >= 0 else 0\n",
        "\n",
        "# Entrenamiento\n",
        "epochs = 10  # pases al dataset\n",
        "learning_rate = 0.1\n",
        "\n",
        "print(\"\\nTraining the Perceptron...\")\n",
        "\n",
        "for epoch in range(epochs):\n",
        "  for i in range(X.shape[0]):  # batches de 1 fila\n",
        "\n",
        "    ##  Forward:\n",
        "    # Calculate the weighted sum of inputs\n",
        "    weighted_sum = np.dot(X[i], weights) + bias\n",
        "\n",
        "    # Get the predicted output (logits)\n",
        "    prediction = activate(weighted_sum)\n",
        "\n",
        "    ## Backwards:\n",
        "    # CAlcular el error para el estado actual de los parameros de la red\n",
        "    loss = y[i] - prediction\n",
        "    # Actualizacion mediante `backprop`\n",
        "    weights += learning_rate * loss * X[i]\n",
        "    bias += learning_rate * loss\n",
        "\n",
        "print(\"Training complete.\")\n",
        "print(f\"Final weights: {weights}\")\n",
        "print(f\"Final bias: {bias}\")\n",
        "\n",
        "# Testing the perceptron (Forward solo)\n",
        "print(\"\\nTesting the Perceptron:\")\n",
        "for i in range(X.shape[0]):\n",
        "  weighted_sum = np.dot(X[i], weights) + bias\n",
        "  prediction = activate(weighted_sum)\n",
        "  print(f\"Input: {X[i]}, Predicted Output: {prediction}, Expected Output: {y[i]}\")\n"
      ],
      "metadata": {
        "colab": {
          "base_uri": "https://localhost:8080/"
        },
        "id": "P7XOvarb4YFg",
        "outputId": "6b0f9bc0-f0e4-4e51-caac-9d37340e6743"
      },
      "execution_count": null,
      "outputs": [
        {
          "output_type": "stream",
          "name": "stdout",
          "text": [
            "\n",
            "Training the Perceptron...\n",
            "Training complete.\n",
            "Final weights: [0.37127035 0.17404465]\n",
            "Final bias: -0.5\n",
            "\n",
            "Testing the Perceptron:\n",
            "Input: [0 0], Predicted Output: 0, Expected Output: 0\n",
            "Input: [0 1], Predicted Output: 0, Expected Output: 0\n",
            "Input: [1 0], Predicted Output: 0, Expected Output: 0\n",
            "Input: [1 1], Predicted Output: 1, Expected Output: 1\n"
          ]
        }
      ]
    },
    {
      "cell_type": "markdown",
      "source": [
        "# Funciones de Activacion\n",
        "\n",
        "Cada capa se compone de la operción que involucra a los pesos `W` y el sesgo `b`  o bias y luego se le aplica una funcion de activación para introducir no linealidad"
      ],
      "metadata": {
        "id": "WIuvAvyi1JTM"
      }
    },
    {
      "cell_type": "code",
      "source": [
        "\n",
        "def sigmoid(x: typing.Union[np.ndarray, float]) -> typing.Union[np.ndarray, float]:\n",
        "  \"\"\"\n",
        "  Implements the sigmoid function.\n",
        "\n",
        "  Args:\n",
        "    x: The input, can be a float or a numpy array.\n",
        "\n",
        "  Returns:\n",
        "    The output of the sigmoid function applied to x.\n",
        "  \"\"\"\n",
        "  return 1 / (1 + np.exp(-x))\n",
        "\n",
        "\n",
        "def relu(x: typing.Union[np.ndarray, float]) -> typing.Union[np.ndarray, float]:\n",
        "  \"\"\"\n",
        "  Implements the ReLU (Rectified Linear Unit) function.\n",
        "\n",
        "  Args:\n",
        "    x: The input, can be a float or a numpy array.\n",
        "\n",
        "  Returns:\n",
        "    The output of the ReLU function applied to x.\n",
        "  \"\"\"\n",
        "  return np.maximum(0, x)\n",
        "\n",
        "\n",
        "def tanh(x: typing.Union[np.ndarray, float]) -> typing.Union[np.ndarray, float]:\n",
        "  \"\"\"\n",
        "  Implements the tanh (hyperbolic tangent) function.\n",
        "\n",
        "  Args:\n",
        "    x: The input, can be a float or a numpy array.\n",
        "\n",
        "  Returns:\n",
        "    The output of the tanh function applied to x.\n",
        "  \"\"\"\n",
        "  return (np.exp(x) - np.exp(-x)) / (np.exp(x) + np.exp(-x))\n",
        "\n",
        "# Example usage:\n",
        "x_values = np.linspace(-5, 5, 100)\n",
        "\n",
        "sigmoid_output = sigmoid(x_values)\n",
        "relu_output = relu(x_values)\n",
        "tanh_output = tanh(x_values)\n",
        "\n",
        "plt.figure(figsize=(10, 6))\n",
        "\n",
        "plt.plot(x_values, sigmoid_output, label='Sigmoid')\n",
        "plt.plot(x_values, relu_output, label='ReLU')\n",
        "plt.plot(x_values, tanh_output, label='Tanh')\n",
        "\n",
        "plt.title('Activation Functions')\n",
        "plt.xlabel('x')\n",
        "plt.ylabel('Output')\n",
        "plt.legend()\n",
        "plt.grid(True)\n",
        "plt.show()\n"
      ],
      "metadata": {
        "colab": {
          "base_uri": "https://localhost:8080/",
          "height": 564
        },
        "id": "FxAMPpwKHtik",
        "outputId": "b3a8236f-f953-45cb-d3d4-3a1dd9999785"
      },
      "execution_count": null,
      "outputs": [
        {
          "output_type": "display_data",
          "data": {
            "text/plain": [
              "<Figure size 1000x600 with 1 Axes>"
            ],
            "image/png": "[encoded data removed]"
          },
          "metadata": {}
        }
      ]
    },
    {
      "cell_type": "markdown",
      "source": [
        "La función `softmax` es imprescindible en clasificación multiclase, pues conviernte los logits en bruto en probabilidades reales"
      ],
      "metadata": {
        "id": "DgWWnDFL1TV0"
      }
    },
    {
      "cell_type": "code",
      "source": [
        "def softmax(x: np.ndarray) -> np.ndarray:\n",
        "  \"\"\"\n",
        "  Implements the softmax function.\n",
        "\n",
        "  Args:\n",
        "    x: The input, a numpy array (typically representing raw scores or logits).\n",
        "\n",
        "  Returns:\n",
        "    The output of the softmax function applied to x, a numpy array of probabilities.\n",
        "  \"\"\"\n",
        "  # Subtract the maximum value for numerical stability\n",
        "  e_x = np.exp(x - np.max(x))\n",
        "  return e_x / e_x.sum(axis=0)\n",
        "\n",
        "\n",
        "# logits: raw scores from the output layer (3 class target)\n",
        "logits = np.array([1.0, 2.0, 0.5])\n",
        "\n",
        "probabilities = softmax(logits)\n",
        "\n",
        "print(f\"Raw scores (logits): {logits}\")\n",
        "print(f\"Probabilities after softmax: {probabilities}\")\n",
        "print(f\"Sum of probabilities: {probabilities.sum()}\")"
      ],
      "metadata": {
        "colab": {
          "base_uri": "https://localhost:8080/"
        },
        "id": "V3gWl786Ly3J",
        "outputId": "7e8e1a71-0d44-4ebc-e790-3c67176211b1"
      },
      "execution_count": null,
      "outputs": [
        {
          "output_type": "stream",
          "name": "stdout",
          "text": [
            "Raw scores (logits): [1.  2.  0.5]\n",
            "Probabilities after softmax: [0.2312239  0.62853172 0.14024438]\n",
            "Sum of probabilities: 1.0\n"
          ]
        }
      ]
    },
    {
      "cell_type": "markdown",
      "source": [
        "**Intuición**\n",
        "\n",
        "Los pesos (parámetros) de la red almacenan los parámetros generales, mientras que las activciones se obtienen al pasar datos por la misma, por lo que es la respuesta de la red a la presencia de ese dato concreto\n",
        "\n",
        "Para interpretar por qué una red funciona como lo hace, hay que estudiar las activaciones"
      ],
      "metadata": {
        "id": "lkM8WoK96q8x"
      }
    },
    {
      "cell_type": "markdown",
      "source": [
        "# RNN Vanilla"
      ],
      "metadata": {
        "id": "VoRsYwXP1nff"
      }
    },
    {
      "cell_type": "markdown",
      "source": [
        "## Encoding\n",
        "\n",
        "La entrada a una RNN siempre es la representación vectorial del string, normalmente es un vector denso, pero en este caso, por simplicidad, asignemos un vector `sparse`"
      ],
      "metadata": {
        "id": "ugE7qaML1rR2"
      }
    },
    {
      "cell_type": "code",
      "source": [
        "char_to_ix = {'h':0, 'e':1, 'l':2, 'o':3, '_':4}\n",
        "ix_to_char = {i:ch for ch, i in char_to_ix.items()}\n",
        "vocab_size = len(char_to_ix)\n",
        "\n",
        "def one_hot(c):\n",
        "    v = np.zeros((vocab_size, 1))\n",
        "    v[char_to_ix[c]] = 1\n",
        "    return v\n",
        "\n",
        "one_hot(\"h\")"
      ],
      "metadata": {
        "colab": {
          "base_uri": "https://localhost:8080/"
        },
        "id": "zkphisVQNvjy",
        "outputId": "cf587225-95fd-41a5-eb84-d8946f939a06"
      },
      "execution_count": null,
      "outputs": [
        {
          "output_type": "execute_result",
          "data": {
            "text/plain": [
              "array([[1.],\n",
              "       [0.],\n",
              "       [0.],\n",
              "       [0.],\n",
              "       [0.]])"
            ]
          },
          "metadata": {},
          "execution_count": 25
        }
      ]
    },
    {
      "cell_type": "code",
      "source": [
        "one_hot(\"e\")"
      ],
      "metadata": {
        "id": "7-eGpnBRafHC",
        "outputId": "f2c21ac2-a62c-4385-f1cf-e5989e6695d1",
        "colab": {
          "base_uri": "https://localhost:8080/"
        }
      },
      "execution_count": null,
      "outputs": [
        {
          "output_type": "execute_result",
          "data": {
            "text/plain": [
              "array([[0.],\n",
              "       [1.],\n",
              "       [0.],\n",
              "       [0.],\n",
              "       [0.]])"
            ]
          },
          "metadata": {},
          "execution_count": 35
        }
      ]
    },
    {
      "cell_type": "code",
      "source": [
        "try:\n",
        "  one_hot(\"a\")\n",
        "except KeyError as err:\n",
        "  print(\"ERROR. El caracter no se encuentra en el vocabulario `char_to_ix`:\", err)"
      ],
      "metadata": {
        "colab": {
          "base_uri": "https://localhost:8080/"
        },
        "id": "StuA11B1N07x",
        "outputId": "d75b78f1-7c8a-4075-bdec-b762070bf9ed"
      },
      "execution_count": null,
      "outputs": [
        {
          "output_type": "stream",
          "name": "stdout",
          "text": [
            "ERROR. El caracter no se encuentra en el vocabulario `char_to_ix`: 'a'\n"
          ]
        }
      ]
    },
    {
      "cell_type": "markdown",
      "source": [
        "## Inicialización de pesos\n",
        "\n",
        "Wab: matriz de pesos para pasar de `a` a `b`  con el producto escalar (dot product): b = Wab · a, por lo tanto, siempre tienen dimensiones:  \n",
        "\n",
        "b[Nbx1] = Wab [NbxNa] · a [Nax1]\n",
        "\n",
        "\n",
        "* Wxh =  input to hidden\n",
        "* Whh =  hidden to hidden\n",
        "* Why =  hidden to output\n",
        "\n",
        "Adicionalmente, se tienen los vectore de `bias`\n",
        "* bh, by"
      ],
      "metadata": {
        "id": "-WMD_yOWNezx"
      }
    },
    {
      "cell_type": "code",
      "source": [
        "np.random.seed(42)\n",
        "\n",
        "# Dimensiones\n",
        "vocab_size = len(char_to_ix)\n",
        "hidden_size = 4\n",
        "\n",
        "Wxh = np.random.randn(hidden_size, vocab_size)\n",
        "Whh = np.random.randn(hidden_size, hidden_size)  # hidden to hidden\n",
        "Why = np.random.randn(vocab_size, hidden_size)  # hidden to output\n",
        "bh = np.zeros((hidden_size, 1))\n",
        "by = np.zeros((vocab_size, 1))\n"
      ],
      "metadata": {
        "id": "ONxPhE0fNavH"
      },
      "execution_count": null,
      "outputs": []
    },
    {
      "cell_type": "markdown",
      "source": [
        "## Forward paso a paso"
      ],
      "metadata": {
        "id": "_75hqbgtPybh"
      }
    },
    {
      "cell_type": "code",
      "source": [
        "input_sequence = \"hell\"  # cada caracter se vectorizará para pasar secuencialmente por la red"
      ],
      "metadata": {
        "id": "pX5K0kxPPD8c"
      },
      "execution_count": null,
      "outputs": []
    },
    {
      "cell_type": "markdown",
      "source": [
        "Ejemplo de las dimensiones y del producto escalar"
      ],
      "metadata": {
        "id": "x7CCbb7S4GqK"
      }
    },
    {
      "cell_type": "code",
      "source": [
        "x_in = one_hot(\"h\")\n",
        "\n",
        "x_in"
      ],
      "metadata": {
        "colab": {
          "base_uri": "https://localhost:8080/"
        },
        "id": "VcfXQNw-3DRV",
        "outputId": "57088783-7e16-403d-800a-4dc84e1ea927"
      },
      "execution_count": null,
      "outputs": [
        {
          "output_type": "execute_result",
          "data": {
            "text/plain": [
              "array([[1.],\n",
              "       [0.],\n",
              "       [0.],\n",
              "       [0.],\n",
              "       [0.]])"
            ]
          },
          "metadata": {},
          "execution_count": 29
        }
      ]
    },
    {
      "cell_type": "code",
      "source": [
        "Wxh.shape, x_in.shape"
      ],
      "metadata": {
        "colab": {
          "base_uri": "https://localhost:8080/"
        },
        "id": "7wzX5rtY3f2E",
        "outputId": "b9416911-97d8-4cd7-f4f5-709f19b1acb4"
      },
      "execution_count": null,
      "outputs": [
        {
          "output_type": "execute_result",
          "data": {
            "text/plain": [
              "((4, 5), (5, 1))"
            ]
          },
          "metadata": {},
          "execution_count": 30
        }
      ]
    },
    {
      "cell_type": "code",
      "source": [
        "res = np.dot(Wxh, x_in)\n",
        "res.shape"
      ],
      "metadata": {
        "colab": {
          "base_uri": "https://localhost:8080/"
        },
        "id": "w_sGksBL3cpQ",
        "outputId": "4f8eb35b-6e84-45c0-891b-6ee11d85c875"
      },
      "execution_count": null,
      "outputs": [
        {
          "output_type": "execute_result",
          "data": {
            "text/plain": [
              "(4, 1)"
            ]
          },
          "metadata": {},
          "execution_count": 31
        }
      ]
    },
    {
      "cell_type": "code",
      "source": [
        "# Forward pass\n",
        "hs = {}  # activaciones\n",
        "hs[-1] = np.zeros((hidden_size, 1))  # estado inicial\n",
        "\n",
        "xs, ys, ps = {}, {}, {}\n",
        "\n",
        "for t, char in enumerate(input_sequence):\n",
        "    xs[t] = one_hot(char)\n",
        "    hs[t] = np.tanh(np.dot(Wxh, xs[t]) + np.dot(Whh, hs[t-1]) + bh)\n",
        "    ys[t] = np.dot(Why, hs[t]) + by\n",
        "    ps[t] = softmax(ys[t])\n"
      ],
      "metadata": {
        "id": "jP6oz28uOTh1"
      },
      "execution_count": null,
      "outputs": []
    },
    {
      "cell_type": "markdown",
      "source": [
        "## Visualización"
      ],
      "metadata": {
        "id": "32mNqCvxP529"
      }
    },
    {
      "cell_type": "code",
      "source": [
        "activ_matrix = np.hstack([hs[t] for t in range(len(input_sequence))])\n",
        "\n",
        "plt.imshow(activ_matrix, cmap='viridis', aspect='auto')\n",
        "plt.colorbar()\n",
        "plt.xlabel(\"Time step (character)\")\n",
        "plt.ylabel(\"Hidden unit\")\n",
        "plt.xticks(range(len(input_sequence)), list(input_sequence))\n",
        "plt.title(\"Activaciones del estado oculto hₜ\")\n",
        "plt.show()\n"
      ],
      "metadata": {
        "colab": {
          "base_uri": "https://localhost:8080/",
          "height": 472
        },
        "id": "wFcd1yqkKM7U",
        "outputId": "4aa970d0-bb37-4f0b-f861-2165abbe8d03"
      },
      "execution_count": null,
      "outputs": [
        {
          "output_type": "display_data",
          "data": {
            "text/plain": [
              "<Figure size 640x480 with 2 Axes>"
            ],
            "image/png": "[encoded data removed]"
          },
          "metadata": {}
        }
      ]
    },
    {
      "cell_type": "markdown",
      "source": [
        "🔁 Las activaciones de hₜ retienen memoria: el estado oculto lleva información del pasado.\n",
        "\n",
        "🔄 Se puede visualizar cómo ciertos caracteres afectan más a determinadas neuronas ocultas."
      ],
      "metadata": {
        "id": "JYOoDXAAPlcy"
      }
    },
    {
      "cell_type": "code",
      "source": [
        "plt.imshow(Wxh, cmap='coolwarm', aspect='auto')\n",
        "plt.colorbar()\n",
        "plt.xlabel(\"Carácter (one-hot)\")\n",
        "plt.ylabel(\"Unidad oculta\")\n",
        "plt.title(\"Pesos Wxh (input → hidden)\")\n",
        "plt.xticks(range(vocab_size), list(char_to_ix.keys()))\n",
        "plt.show()\n"
      ],
      "metadata": {
        "colab": {
          "base_uri": "https://localhost:8080/",
          "height": 472
        },
        "id": "XXoOAgojPPo5",
        "outputId": "c7af86fb-bc95-46e8-ce6a-15ad0e18b22a"
      },
      "execution_count": null,
      "outputs": [
        {
          "output_type": "display_data",
          "data": {
            "text/plain": [
              "<Figure size 640x480 with 2 Axes>"
            ],
            "image/png": "[encoded data removed]"
          },
          "metadata": {}
        }
      ]
    },
    {
      "cell_type": "markdown",
      "source": [
        "🔍 Los pesos Wxh (aunque aleatorios en el ejemplo) revelan cómo el modelo \"atiende\" a diferentes letras del vocabulario (que no de la secuencia)"
      ],
      "metadata": {
        "id": "qwR2PUwbPnyd"
      }
    },
    {
      "cell_type": "markdown",
      "source": [
        "# EOF"
      ],
      "metadata": {
        "id": "nIcvi0gONmCL"
      }
    },
    {
      "cell_type": "code",
      "source": [],
      "metadata": {
        "id": "2YUfRnKh7DIp"
      },
      "execution_count": null,
      "outputs": []
    }
  ]
}